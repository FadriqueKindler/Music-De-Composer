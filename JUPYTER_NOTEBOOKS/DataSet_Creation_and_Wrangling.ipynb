{
 "cells": [
  {
   "cell_type": "code",
   "execution_count": null,
   "metadata": {},
   "outputs": [],
   "source": [
    "                                        # IMPORT MODULES #"
   ]
  },
  {
   "cell_type": "code",
   "execution_count": null,
   "metadata": {},
   "outputs": [],
   "source": [
    "import pandas as pd\n",
    "import numpy as np \n",
    "import os\n",
    "import re\n",
    "import librosa\n",
    "from pydub import AudioSegment"
   ]
  },
  {
   "cell_type": "code",
   "execution_count": null,
   "metadata": {},
   "outputs": [],
   "source": [
    "                                         # ASSIGN PATHS #"
   ]
  },
  {
   "cell_type": "code",
   "execution_count": null,
   "metadata": {},
   "outputs": [],
   "source": [
    "input_path = \"../DATA/genres\"\n",
    "output_path = \"../DATA/SongSplits/\""
   ]
  },
  {
   "cell_type": "code",
   "execution_count": null,
   "metadata": {},
   "outputs": [],
   "source": [
    "                                          # GET DATA #"
   ]
  },
  {
   "cell_type": "code",
   "execution_count": null,
   "metadata": {},
   "outputs": [],
   "source": [
    "def getListOfFiles(dirName):\n",
    "\n",
    "# Creates a list of files and sub directories #\n",
    "    listOfFile = os.listdir(dirName)\n",
    "    allFiles = list()\n",
    "    \n",
    "# Iterate over all the entries #\n",
    "    for entry in listOfFile:\n",
    "        \n",
    "# Create full path\n",
    "        fullPath = os.path.join(dirName, entry)\n",
    "        \n",
    "# If entry is a directory then get the list of files in this directory #    \n",
    "        if os.path.isdir(fullPath):\n",
    "            allFiles = allFiles + getListOfFiles(fullPath)\n",
    "        else:\n",
    "            allFiles.append(fullPath)\n",
    "                \n",
    "    return [allf for allf in allFiles if allf.endswith(\".wav\")]"
   ]
  },
  {
   "cell_type": "code",
   "execution_count": null,
   "metadata": {},
   "outputs": [],
   "source": [
    "music_dataset = getListOfFiles(input_path)"
   ]
  },
  {
   "cell_type": "code",
   "execution_count": null,
   "metadata": {},
   "outputs": [],
   "source": [
    "                              # SPLIT SONGS & SAVE IN OUTPUT PATH DIR # "
   ]
  },
  {
   "cell_type": "code",
   "execution_count": null,
   "metadata": {},
   "outputs": [],
   "source": [
    "def getandsplit_song(data):\n",
    "\n",
    "    output_path = \"../DATA/SongSplits/\"\n",
    "   \n",
    "    for songname in data:  \n",
    "        \n",
    "        y, sr = librosa.load(songname, sr=44100)\n",
    "        song = AudioSegment.from_wav(songname)\n",
    "\n",
    "        duration = len(song)\n",
    "        intervals = duration//9\n",
    "        overlap = intervals//2\n",
    "    \n",
    "        counter = 1\n",
    "        start = 0\n",
    "        end = 0 \n",
    "\n",
    "# Flag to keep track of end of file. When audio reaches its end, flag is set to 1 and it breaks #\n",
    "        flag = 0\n",
    "\n",
    "# Clean Songname using regex #\n",
    "        songname = re.split('[/]+', songname)\n",
    "        songname = songname[-1]\n",
    "        songname = re.sub(r\".wav\", \"\", songname)\n",
    "\n",
    "# Iterate from 0 to end of the file, with increment = interval #\n",
    "        for i in range(0,duration, intervals): \n",
    "\n",
    "# First iteration (start is 0, end is the interval) #\n",
    "            if i == 0: \n",
    "                start = 0\n",
    "                end = intervals \n",
    "\n",
    "# All other iterations(start is the previous end - overlap, end becomes end + interval) #\n",
    "            else: \n",
    "                start = end - overlap \n",
    "                end = start + intervals  \n",
    "\n",
    "# When end > the file length(end is set to the file length, flag is set to 1 to indicate break)\n",
    "            if end >= duration:\n",
    "                start = duration - overlap\n",
    "                end = duration \n",
    "                flag = 1\n",
    "\n",
    "# Storing audio file from the defined start to end # \n",
    "            chunk = song[start:end] \n",
    "\n",
    "# Filename / Path to store the sliced audio #\n",
    "            print(songname)\n",
    "            filename = str(output_path) + songname + \"_{}.wav\".format(str(counter))\n",
    "            print(filename)\n",
    "\n",
    "# Store the sliced audio file to the defined path #\n",
    "            chunk.export(filename, format =\"wav\") \n",
    "\n",
    "# Print information about the current chunk #\n",
    "            print(\"Processing {} chunk \".format(songname) + str(counter)+ \". Start = \"\n",
    "                                +str(start)+\" end = \"+str(end)) \n",
    "\n",
    "# Increment counter for the next chunk #\n",
    "            counter = counter + 1"
   ]
  },
  {
   "cell_type": "code",
   "execution_count": null,
   "metadata": {},
   "outputs": [],
   "source": [
    "getandsplit_song(music_dataset)"
   ]
  },
  {
   "cell_type": "code",
   "execution_count": null,
   "metadata": {},
   "outputs": [],
   "source": []
  },
  {
   "cell_type": "code",
   "execution_count": null,
   "metadata": {},
   "outputs": [],
   "source": []
  }
 ],
 "metadata": {
  "kernelspec": {
   "display_name": "Python 3",
   "language": "python",
   "name": "python3"
  },
  "language_info": {
   "codemirror_mode": {
    "name": "ipython",
    "version": 3
   },
   "file_extension": ".py",
   "mimetype": "text/x-python",
   "name": "python",
   "nbconvert_exporter": "python",
   "pygments_lexer": "ipython3",
   "version": "3.7.4"
  }
 },
 "nbformat": 4,
 "nbformat_minor": 2
}
